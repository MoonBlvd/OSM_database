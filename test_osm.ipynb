{
 "cells": [
  {
   "cell_type": "code",
   "execution_count": 40,
   "metadata": {},
   "outputs": [
    {
     "data": {
      "text/plain": [
       "'Find the number of points and the points coordinate of a road.'"
      ]
     },
     "execution_count": 40,
     "metadata": {},
     "output_type": "execute_result"
    }
   ],
   "source": [
    "'''\n",
    "Function:Load the data base and query\n",
    "Date: 09/20/2017\n",
    "Author: Yu (Brian) Yao\n",
    "\n",
    "Input: \n",
    "    long: Longitude coordinate in float.\n",
    "    lat:  Latitude coordinate in float.\n",
    "    \n",
    "Output:\n",
    "    Top three nearest road. \n",
    "    \n",
    "Database file:\n",
    "    0 - 6:   id, highway, footway, name, tiger:cfcc, lanes, service\n",
    "    7 - 12:  surface, oneway, amenity, maxspeed, crossing, lit\n",
    "    13 - 16: lanes:backward, lanes:forward, source, parking\n",
    "    17 - 19: sidewalk, turn:lanes:backward, turn:lanes:forward\n",
    "    20 - 24: turn:lanes, destination:ref, barrier, tunnel, water\n",
    "    25 - 26: hourse, railway\n",
    "    27:      geometry\n",
    "    *28:     distance \n",
    "    \n",
    "'''\n",
    "import sqlite3\n",
    "MAX = 1E-4\n",
    "MIN = 1E-5\n",
    "class sql():\n",
    "    def __init__(self, db_name):\n",
    "        # connect to database\n",
    "        self.conn = sqlite3.connect(db_name)\n",
    "        self.conn.enable_load_extension(True)\n",
    "        self.conn.load_extension(\"mod_spatialite\")\n",
    "        \n",
    "        self.num_roads = 5\n",
    "        \n",
    "    def reorder_roads(self, location):\n",
    "        '''\n",
    "        Reorder road data by distance \n",
    "        '''\n",
    "        long = location[0]\n",
    "        lat = location[1]\n",
    "        '''Find the nearest road''' \n",
    "        # data = conn.execute(\"SELECT *, MIN(DISTANCE(geometry, ST_POINT( -83.702175,42.297199))) as dist \\\n",
    "        #                     FROM OSM_AA_POLYLINES_NEW as osm \\\n",
    "        #                     JOIN ways_tags as wt USING (id)\")\n",
    "\n",
    "        '''Order the roads by distances to the point.'''\n",
    "        res = self.conn.execute(\"SELECT *,ST_Distance(osm.geometry, ST_POINT(?,?)) as dist\\\n",
    "                            FROM OSM_AA_POLYLINES_NEW as osm\\\n",
    "                            ORDER BY ST_Distance(osm.geometry, ST_POINT(?,?))\",(long,lat,long,lat))\n",
    "        data = res.fetchall()\n",
    "        nearest_road = self.check_roads(data)\n",
    "        \n",
    "        res = self.conn.execute(\"SELECT AsText(?), NumPoints(?)\",(nearest_road['geometry'], nearest_road['geometry']))\n",
    "        data = res.fetchall()\n",
    "        \n",
    "        return nearest_road\n",
    "    def check_roads(self, data):\n",
    "        '''\n",
    "        Given the reordered road data, find the nearest possible road\n",
    "        '''\n",
    "        flag = True\n",
    "        i = 0\n",
    "        while flag:\n",
    "            road = self.load_dict(data[i])\n",
    "            if i == 0 :\n",
    "                nearest_road = road\n",
    "            else:\n",
    "                if road['dist'] - dist_prev < MIN:\n",
    "                    # Both roads are close\n",
    "                    if highway_prev == 'footway':\n",
    "                        # if the closer road is a footway, it may be false\n",
    "                        # check the next close road\n",
    "                        if road['highway'] != 'footway':\n",
    "                            nearest_road = road\n",
    "                        continue\n",
    "                elif road['dist'] - dist_prev > MAX:\n",
    "                    # new road is far\n",
    "                    return  nearest_road\n",
    "            dist_prev = road['dist']\n",
    "            highway_prev = road['highway']\n",
    "            i += 1\n",
    "        return nearest_road\n",
    "            \n",
    "    def load_dict(self, data):\n",
    "        road = {}\n",
    "        road['id'] = data[0]\n",
    "        road['highway'] = data[1]\n",
    "        road['footway'] = data[2]\n",
    "        road['name'] = data[3]\n",
    "        road['cfcc'] = data[4]\n",
    "        road['lanes'] = data[5]\n",
    "        road['service'] = data[6]\n",
    "        road['surface'] = data[7]\n",
    "        road['oneway']= data[8]\n",
    "        road['amenity'] = data[9]\n",
    "        if data[10] != None:\n",
    "            road['maxspeed'] = float(data[10][0:2])*0.44704 # mph to m/s\n",
    "        road['crossing'] = data[11]\n",
    "        road['lit'] = data[12]\n",
    "        road['lanes_back'] = data[13]\n",
    "        road['lanes_forward'] = data[14]\n",
    "        road['source'] = data[15]\n",
    "        road['parking'] = data[16]\n",
    "        road['sidewald'] = data[17]\n",
    "        road['turn_back'] = data[18]\n",
    "        road['turn_forward'] = data[19]\n",
    "        road['turn'] = data[20]\n",
    "        road['destination'] = data[21]\n",
    "        road['barrier'] = data[22]\n",
    "        road['tunnel'] = data[23]\n",
    "        road['water'] = data[24]\n",
    "        road['horse'] = data[25]\n",
    "        road['railway'] = data[26]\n",
    "        road['geometry'] = data[27]\n",
    "        road['dist'] = data[28]\n",
    "        return road\n",
    "    \n",
    "    \n",
    "# SELECT id, source, wn.node_id,\n",
    "# MIN(DISTANCE(osm.geometry, ST_POINT( -83.702175,42.297199))) as dist \n",
    "# FROM OSM_AA_POLYLINES_NEW AS osm,\n",
    "# ways_nodes AS wn\n",
    "# WHERE osm.id=wn.way_id\n",
    "\n",
    "'''Find the number of points and the points coordinate of a road.'''\n",
    "# SELECT AsText(geometry), NumPoints(geometry),X(PointN(geometry,2))\n",
    "# FROM OSM_AA_POLYLINES_NEW as osm\n",
    "# WHERE osm.id='4411729'"
   ]
  },
  {
   "cell_type": "code",
   "execution_count": 41,
   "metadata": {},
   "outputs": [
    {
     "name": "stdout",
     "output_type": "stream",
     "text": [
      "residential 13.4112\n"
     ]
    }
   ],
   "source": [
    "if __name__ == \"__main__\":\n",
    "    db_name = \"data/OSM_AA.osm.db\"\n",
    "    SQL = sql(db_name)\n",
    "    \n",
    "    long = -83.702175\n",
    "    lat = 42.297199\n",
    "    location = [long, lat]\n",
    "    nearest_road = SQL.reorder_roads(location)\n",
    "    print (nearest_road['highway'], nearest_road['maxspeed'])"
   ]
  },
  {
   "cell_type": "code",
   "execution_count": 32,
   "metadata": {},
   "outputs": [
    {
     "ename": "TypeError",
     "evalue": "int() argument must be a string, a bytes-like object or a number, not 'NoneType'",
     "output_type": "error",
     "traceback": [
      "\u001b[0;31m---------------------------------------------------------------------------\u001b[0m",
      "\u001b[0;31mTypeError\u001b[0m                                 Traceback (most recent call last)",
      "\u001b[0;32m<ipython-input-32-af2123a46eb2>\u001b[0m in \u001b[0;36m<module>\u001b[0;34m()\u001b[0m\n\u001b[0;32m----> 1\u001b[0;31m \u001b[0mint\u001b[0m\u001b[0;34m(\u001b[0m\u001b[0;32mNone\u001b[0m\u001b[0;34m)\u001b[0m\u001b[0;34m\u001b[0m\u001b[0m\n\u001b[0m",
      "\u001b[0;31mTypeError\u001b[0m: int() argument must be a string, a bytes-like object or a number, not 'NoneType'"
     ]
    }
   ],
   "source": []
  },
  {
   "cell_type": "code",
   "execution_count": null,
   "metadata": {},
   "outputs": [],
   "source": []
  }
 ],
 "metadata": {
  "kernelspec": {
   "display_name": "Python 3",
   "language": "python",
   "name": "python3"
  },
  "language_info": {
   "codemirror_mode": {
    "name": "ipython",
    "version": 3
   },
   "file_extension": ".py",
   "mimetype": "text/x-python",
   "name": "python",
   "nbconvert_exporter": "python",
   "pygments_lexer": "ipython3",
   "version": "3.5.2"
  }
 },
 "nbformat": 4,
 "nbformat_minor": 2
}
