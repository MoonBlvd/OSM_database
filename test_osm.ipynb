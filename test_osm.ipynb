{
 "cells": [
  {
   "cell_type": "code",
   "execution_count": 31,
   "metadata": {},
   "outputs": [],
   "source": [
    "'''\n",
    "Function:Load the data base and query\n",
    "Date: 09/20/2017\n",
    "Author: Yu (Brian) Yao\n",
    "\n",
    "Input: \n",
    "    long: Longitude coordinate in float.\n",
    "    lat:  Latitude coordinate in float.\n",
    "    \n",
    "Output:\n",
    "    Top three nearest road. \n",
    "'''\n",
    "import sqlite3\n",
    "\n",
    "class sql():\n",
    "    def __init__(self, db_name):\n",
    "        # connect to database\n",
    "        self.conn = sqlite3.connect(db_name)\n",
    "        self.conn.enable_load_extension(True)\n",
    "        self.conn.load_extension(\"mod_spatialite\")\n",
    "        \n",
    "        self.num_roads = 5\n",
    "        \n",
    "    def reorder_roads(self, location):\n",
    "        '''\n",
    "        Reorder road data by distance \n",
    "        '''\n",
    "        long = location[0]\n",
    "        lat = location[1]\n",
    "        '''Find the nearest road''' \n",
    "        # data = conn.execute(\"SELECT *, MIN(DISTANCE(geometry, ST_POINT( -83.702175,42.297199))) as dist \\\n",
    "        #                     FROM OSM_AA_POLYLINES_NEW as osm \\\n",
    "        #                     JOIN ways_tags as wt USING (id)\")\n",
    "\n",
    "        '''Order the roads by distances to the point.'''\n",
    "        res = conn.execute(\"SELECT *,ST_Distance(osm.geometry, ST_POINT(?,?)) as dist\\\n",
    "                            FROM OSM_AA_POLYLINES as osm\\\n",
    "                            ORDER BY ST_Distance(osm.geometry, ST_POINT(?,?))\",(long,lat,long,lat))\n",
    "        data = res.fetchall()\n",
    "        self.check_roads(data)\n",
    "        \n",
    "    def check_roads(self, data):\n",
    "        '''\n",
    "        Given the reordered road data, find the nearest possible road\n",
    "        '''\n",
    "        nearest_road_0 = data[0][0:18]\n",
    "        dist_0 = data[0][19]\n",
    "        \n",
    "        print (nearest_road_0)\n",
    "        print (dist_0)\n",
    "\n",
    "    "
   ]
  },
  {
   "cell_type": "code",
   "execution_count": 32,
   "metadata": {},
   "outputs": [
    {
     "name": "stdout",
     "output_type": "stream",
     "text": [
      "(8726407, 'residential', None, 'Baxter Road', 'A41', '2', None, None, '30 mph', None, None, None, None, None, None, None, None, None)\n",
      "5.175270620468169e-06\n"
     ]
    }
   ],
   "source": [
    "if __name__ == \"__main__\":\n",
    "    db_name = \"data/OSM_AA_new.osm.db\"\n",
    "    SQL = sql(db_name)\n",
    "    \n",
    "    long = -83.702175\n",
    "    lat = 42.297199\n",
    "    location = [long, lat]\n",
    "    SQL.reorder_roads(location)"
   ]
  },
  {
   "cell_type": "code",
   "execution_count": null,
   "metadata": {},
   "outputs": [],
   "source": []
  }
 ],
 "metadata": {
  "kernelspec": {
   "display_name": "Python 3",
   "language": "python",
   "name": "python3"
  },
  "language_info": {
   "codemirror_mode": {
    "name": "ipython",
    "version": 3
   },
   "file_extension": ".py",
   "mimetype": "text/x-python",
   "name": "python",
   "nbconvert_exporter": "python",
   "pygments_lexer": "ipython3",
   "version": "3.5.2"
  }
 },
 "nbformat": 4,
 "nbformat_minor": 2
}
