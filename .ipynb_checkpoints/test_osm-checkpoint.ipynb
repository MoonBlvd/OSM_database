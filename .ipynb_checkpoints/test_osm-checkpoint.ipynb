{
 "cells": [
  {
   "cell_type": "code",
   "execution_count": 30,
   "metadata": {},
   "outputs": [
    {
     "ename": "SyntaxError",
     "evalue": "invalid syntax (<ipython-input-30-c1014293a424>, line 39)",
     "output_type": "error",
     "traceback": [
      "\u001b[0;36m  File \u001b[0;32m\"<ipython-input-30-c1014293a424>\"\u001b[0;36m, line \u001b[0;32m39\u001b[0m\n\u001b[0;31m    def check_roads(self.data):\u001b[0m\n\u001b[0m                        ^\u001b[0m\n\u001b[0;31mSyntaxError\u001b[0m\u001b[0;31m:\u001b[0m invalid syntax\n"
     ]
    }
   ],
   "source": [
    "'''\n",
    "Function:Load the data base and query\n",
    "Date: 09/20/2017\n",
    "Author: Yu (Brian) Yao\n",
    "\n",
    "Input: \n",
    "    long: Longitude coordinate in float.\n",
    "    lat:  Latitude coordinate in float.\n",
    "    \n",
    "Output:\n",
    "    Top three nearest road. \n",
    "'''\n",
    "import sqlite3\n",
    "\n",
    "class sql():\n",
    "    def __init__(self, db_name):\n",
    "        # connect to database\n",
    "        self.conn = sqlite3.connect(db_name)\n",
    "        self.conn.enable_load_extension(True)\n",
    "        self.conn.load_extension(\"mod_spatialite\")\n",
    "        \n",
    "        self.num_roads = 5\n",
    "    def reorder_roads(self, location):\n",
    "        '''\n",
    "        Reorder road data by distance \n",
    "        '''\n",
    "        long = location[0]\n",
    "        lat = location[1]\n",
    "        '''Find the nearest road''' \n",
    "        # data = conn.execute(\"SELECT *, MIN(DISTANCE(geometry, ST_POINT( -83.702175,42.297199))) as dist \\\n",
    "        #                     FROM OSM_AA_POLYLINES_NEW as osm \\\n",
    "        #                     JOIN ways_tags as wt USING (id)\")\n",
    "\n",
    "        '''Order the roads by distances to the point.'''\n",
    "        res = conn.execute(\"SELECT *,ST_Distance(osm.geometry, ST_POINT(?,?)) as dist\\\n",
    "                            FROM OSM_AA_POLYLINES as osm\\\n",
    "                            ORDER BY ST_Distance(osm.geometry, ST_POINT(?,?))\",(long,lat,long,lat))\n",
    "        data = res.fetchall()\n",
    "        self.check_roads(data)\n",
    "        \n",
    "    def check_roads(self, data):\n",
    "        '''\n",
    "        Given the reordered road data, find the nearest possible road\n",
    "        '''\n",
    "        nearest_road_0 = data[0][0:18]\n",
    "        dist_0 = data[0][19]\n",
    "        print (nearest_road_0)\n",
    "        print (dist_0)\n",
    "\n",
    "    "
   ]
  },
  {
   "cell_type": "code",
   "execution_count": 29,
   "metadata": {},
   "outputs": [
    {
     "ename": "TypeError",
     "evalue": "check_roads() takes 1 positional argument but 2 were given",
     "output_type": "error",
     "traceback": [
      "\u001b[0;31m---------------------------------------------------------------------------\u001b[0m",
      "\u001b[0;31mTypeError\u001b[0m                                 Traceback (most recent call last)",
      "\u001b[0;32m<ipython-input-29-ac42c36c822f>\u001b[0m in \u001b[0;36m<module>\u001b[0;34m()\u001b[0m\n\u001b[1;32m      6\u001b[0m     \u001b[0mlat\u001b[0m \u001b[0;34m=\u001b[0m \u001b[0;36m42.297199\u001b[0m\u001b[0;34m\u001b[0m\u001b[0m\n\u001b[1;32m      7\u001b[0m     \u001b[0mlocation\u001b[0m \u001b[0;34m=\u001b[0m \u001b[0;34m[\u001b[0m\u001b[0mlong\u001b[0m\u001b[0;34m,\u001b[0m \u001b[0mlat\u001b[0m\u001b[0;34m]\u001b[0m\u001b[0;34m\u001b[0m\u001b[0m\n\u001b[0;32m----> 8\u001b[0;31m     \u001b[0mSQL\u001b[0m\u001b[0;34m.\u001b[0m\u001b[0mreorder_roads\u001b[0m\u001b[0;34m(\u001b[0m\u001b[0mlocation\u001b[0m\u001b[0;34m)\u001b[0m\u001b[0;34m\u001b[0m\u001b[0m\n\u001b[0m",
      "\u001b[0;32m<ipython-input-28-ac929add4624>\u001b[0m in \u001b[0;36mreorder_roads\u001b[0;34m(self, location)\u001b[0m\n\u001b[1;32m     35\u001b[0m         \u001b[0mres\u001b[0m \u001b[0;34m=\u001b[0m \u001b[0mconn\u001b[0m\u001b[0;34m.\u001b[0m\u001b[0mexecute\u001b[0m\u001b[0;34m(\u001b[0m\u001b[0;34m\"SELECT *,ST_Distance(osm.geometry, ST_POINT(?,?)) as dist                            FROM OSM_AA_POLYLINES as osm                            ORDER BY ST_Distance(osm.geometry, ST_POINT(?,?))\"\u001b[0m\u001b[0;34m,\u001b[0m\u001b[0;34m(\u001b[0m\u001b[0mlong\u001b[0m\u001b[0;34m,\u001b[0m\u001b[0mlat\u001b[0m\u001b[0;34m,\u001b[0m\u001b[0mlong\u001b[0m\u001b[0;34m,\u001b[0m\u001b[0mlat\u001b[0m\u001b[0;34m)\u001b[0m\u001b[0;34m)\u001b[0m\u001b[0;34m\u001b[0m\u001b[0m\n\u001b[1;32m     36\u001b[0m         \u001b[0mdata\u001b[0m \u001b[0;34m=\u001b[0m \u001b[0mres\u001b[0m\u001b[0;34m.\u001b[0m\u001b[0mfetchall\u001b[0m\u001b[0;34m(\u001b[0m\u001b[0;34m)\u001b[0m\u001b[0;34m\u001b[0m\u001b[0m\n\u001b[0;32m---> 37\u001b[0;31m         \u001b[0mself\u001b[0m\u001b[0;34m.\u001b[0m\u001b[0mcheck_roads\u001b[0m\u001b[0;34m(\u001b[0m\u001b[0mdata\u001b[0m\u001b[0;34m)\u001b[0m\u001b[0;34m\u001b[0m\u001b[0m\n\u001b[0m\u001b[1;32m     38\u001b[0m \u001b[0;34m\u001b[0m\u001b[0m\n\u001b[1;32m     39\u001b[0m     \u001b[0;32mdef\u001b[0m \u001b[0mcheck_roads\u001b[0m\u001b[0;34m(\u001b[0m\u001b[0mdata\u001b[0m\u001b[0;34m)\u001b[0m\u001b[0;34m:\u001b[0m\u001b[0;34m\u001b[0m\u001b[0m\n",
      "\u001b[0;31mTypeError\u001b[0m: check_roads() takes 1 positional argument but 2 were given"
     ]
    }
   ],
   "source": [
    "if __name__ == \"__main__\":\n",
    "    db_name = \"data/OSM_AA_new.osm.db\"\n",
    "    SQL = sql(db_name)\n",
    "    \n",
    "    long = -83.702175\n",
    "    lat = 42.297199\n",
    "    location = [long, lat]\n",
    "    SQL.reorder_roads(location)"
   ]
  },
  {
   "cell_type": "code",
   "execution_count": null,
   "metadata": {},
   "outputs": [],
   "source": []
  }
 ],
 "metadata": {
  "kernelspec": {
   "display_name": "Python 3",
   "language": "python",
   "name": "python3"
  },
  "language_info": {
   "codemirror_mode": {
    "name": "ipython",
    "version": 3
   },
   "file_extension": ".py",
   "mimetype": "text/x-python",
   "name": "python",
   "nbconvert_exporter": "python",
   "pygments_lexer": "ipython3",
   "version": "3.5.2"
  }
 },
 "nbformat": 4,
 "nbformat_minor": 2
}
