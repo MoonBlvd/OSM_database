{
 "cells": [
  {
   "cell_type": "code",
   "execution_count": null,
   "metadata": {},
   "outputs": [],
   "source": [
    "import os\n",
    "import json\n",
    "import psycopg2\n",
    "\n",
    "import matplotlib as mpl\n",
    "import matplotlib.pyplot as plt\n",
    "# The two statemens below are used mainly to set up a plotting\n",
    "# default style that's better than the default from Matplotlib 1.x\n",
    "# Matplotlib 2.0 supposedly has better default styles.\n",
    "import seaborn as sns\n",
    "plt.style.use('bmh')\n",
    "\n",
    "from shapely.geometry import Point\n",
    "import pandas as pd\n",
    "import geopandas as gpd\n",
    "from geopandas import GeoSeries, GeoDataFrame\n",
    "data_pth = \"data/\""
   ]
  },
  {
   "cell_type": "code",
   "execution_count": null,
   "metadata": {},
   "outputs": [],
   "source": [
    "mpl.__version__, pd.__version__, gpd.__version__\n",
    "\n",
    "with open(os.path.join(data_pth, \"db.json\")) as f:\n",
    "    db_conn_dict = json.load(f)\n",
    "    \n",
    "conn = psycopg2.connect(**db_conn_dict)\n",
    "\n",
    "hydrobas_ww = gpd.read_postgis(\n",
    "    \"SELECT * FROM hybas_na_lev00_v1c WHERE pfaf_4 = 7831\", \n",
    "    conn, geom_col='polygongeom', crs={'init': u'epsg:4326'}, \n",
    "    coerce_float=False)\n",
    "\n",
    "len(hydrobas_ww)"
   ]
  }
 ],
 "metadata": {
  "kernelspec": {
   "display_name": "Python 2",
   "language": "python",
   "name": "python2"
  },
  "language_info": {
   "codemirror_mode": {
    "name": "ipython",
    "version": 2
   },
   "file_extension": ".py",
   "mimetype": "text/x-python",
   "name": "python",
   "nbconvert_exporter": "python",
   "pygments_lexer": "ipython2",
   "version": "2.7.12"
  }
 },
 "nbformat": 4,
 "nbformat_minor": 2
}
